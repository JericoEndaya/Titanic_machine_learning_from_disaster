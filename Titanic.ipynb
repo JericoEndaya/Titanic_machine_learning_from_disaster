{
 "cells": [
  {
   "cell_type": "code",
   "execution_count": 1,
   "id": "a9518d52",
   "metadata": {},
   "outputs": [],
   "source": [
    "#library import\n",
    "import numpy as np\n",
    "import pandas as pd\n",
    "import matplotlib.pyplot as plt\n",
    "import seaborn as sns\n",
    "import re\n",
    "import lightgbm as lgb"
   ]
  },
  {
   "cell_type": "code",
   "execution_count": 2,
   "id": "24e11b43",
   "metadata": {},
   "outputs": [
    {
     "data": {
      "text/html": [
       "<div>\n",
       "<style scoped>\n",
       "    .dataframe tbody tr th:only-of-type {\n",
       "        vertical-align: middle;\n",
       "    }\n",
       "\n",
       "    .dataframe tbody tr th {\n",
       "        vertical-align: top;\n",
       "    }\n",
       "\n",
       "    .dataframe thead th {\n",
       "        text-align: right;\n",
       "    }\n",
       "</style>\n",
       "<table border=\"1\" class=\"dataframe\">\n",
       "  <thead>\n",
       "    <tr style=\"text-align: right;\">\n",
       "      <th></th>\n",
       "      <th>PassengerId</th>\n",
       "      <th>Survived</th>\n",
       "      <th>Pclass</th>\n",
       "      <th>Name</th>\n",
       "      <th>Sex</th>\n",
       "      <th>Age</th>\n",
       "      <th>SibSp</th>\n",
       "      <th>Parch</th>\n",
       "      <th>Ticket</th>\n",
       "      <th>Fare</th>\n",
       "      <th>Cabin</th>\n",
       "      <th>Embarked</th>\n",
       "    </tr>\n",
       "  </thead>\n",
       "  <tbody>\n",
       "    <tr>\n",
       "      <th>0</th>\n",
       "      <td>1</td>\n",
       "      <td>0</td>\n",
       "      <td>3</td>\n",
       "      <td>Braund, Mr. Owen Harris</td>\n",
       "      <td>male</td>\n",
       "      <td>22.0</td>\n",
       "      <td>1</td>\n",
       "      <td>0</td>\n",
       "      <td>A/5 21171</td>\n",
       "      <td>7.2500</td>\n",
       "      <td>NaN</td>\n",
       "      <td>S</td>\n",
       "    </tr>\n",
       "    <tr>\n",
       "      <th>1</th>\n",
       "      <td>2</td>\n",
       "      <td>1</td>\n",
       "      <td>1</td>\n",
       "      <td>Cumings, Mrs. John Bradley (Florence Briggs Th...</td>\n",
       "      <td>female</td>\n",
       "      <td>38.0</td>\n",
       "      <td>1</td>\n",
       "      <td>0</td>\n",
       "      <td>PC 17599</td>\n",
       "      <td>71.2833</td>\n",
       "      <td>C85</td>\n",
       "      <td>C</td>\n",
       "    </tr>\n",
       "    <tr>\n",
       "      <th>2</th>\n",
       "      <td>3</td>\n",
       "      <td>1</td>\n",
       "      <td>3</td>\n",
       "      <td>Heikkinen, Miss. Laina</td>\n",
       "      <td>female</td>\n",
       "      <td>26.0</td>\n",
       "      <td>0</td>\n",
       "      <td>0</td>\n",
       "      <td>STON/O2. 3101282</td>\n",
       "      <td>7.9250</td>\n",
       "      <td>NaN</td>\n",
       "      <td>S</td>\n",
       "    </tr>\n",
       "    <tr>\n",
       "      <th>3</th>\n",
       "      <td>4</td>\n",
       "      <td>1</td>\n",
       "      <td>1</td>\n",
       "      <td>Futrelle, Mrs. Jacques Heath (Lily May Peel)</td>\n",
       "      <td>female</td>\n",
       "      <td>35.0</td>\n",
       "      <td>1</td>\n",
       "      <td>0</td>\n",
       "      <td>113803</td>\n",
       "      <td>53.1000</td>\n",
       "      <td>C123</td>\n",
       "      <td>S</td>\n",
       "    </tr>\n",
       "    <tr>\n",
       "      <th>4</th>\n",
       "      <td>5</td>\n",
       "      <td>0</td>\n",
       "      <td>3</td>\n",
       "      <td>Allen, Mr. William Henry</td>\n",
       "      <td>male</td>\n",
       "      <td>35.0</td>\n",
       "      <td>0</td>\n",
       "      <td>0</td>\n",
       "      <td>373450</td>\n",
       "      <td>8.0500</td>\n",
       "      <td>NaN</td>\n",
       "      <td>S</td>\n",
       "    </tr>\n",
       "  </tbody>\n",
       "</table>\n",
       "</div>"
      ],
      "text/plain": [
       "   PassengerId  Survived  Pclass  \\\n",
       "0            1         0       3   \n",
       "1            2         1       1   \n",
       "2            3         1       3   \n",
       "3            4         1       1   \n",
       "4            5         0       3   \n",
       "\n",
       "                                                Name     Sex   Age  SibSp  \\\n",
       "0                            Braund, Mr. Owen Harris    male  22.0      1   \n",
       "1  Cumings, Mrs. John Bradley (Florence Briggs Th...  female  38.0      1   \n",
       "2                             Heikkinen, Miss. Laina  female  26.0      0   \n",
       "3       Futrelle, Mrs. Jacques Heath (Lily May Peel)  female  35.0      1   \n",
       "4                           Allen, Mr. William Henry    male  35.0      0   \n",
       "\n",
       "   Parch            Ticket     Fare Cabin Embarked  \n",
       "0      0         A/5 21171   7.2500   NaN        S  \n",
       "1      0          PC 17599  71.2833   C85        C  \n",
       "2      0  STON/O2. 3101282   7.9250   NaN        S  \n",
       "3      0            113803  53.1000  C123        S  \n",
       "4      0            373450   8.0500   NaN        S  "
      ]
     },
     "execution_count": 2,
     "metadata": {},
     "output_type": "execute_result"
    }
   ],
   "source": [
    "#Taking a look at the data\n",
    "train = pd.read_csv('train.csv')\n",
    "test = pd.read_csv('test.csv')\n",
    "train.head()"
   ]
  },
  {
   "cell_type": "code",
   "execution_count": 3,
   "id": "feb13579",
   "metadata": {},
   "outputs": [
    {
     "data": {
      "text/plain": [
       "PassengerId      int64\n",
       "Survived         int64\n",
       "Pclass           int64\n",
       "Name            object\n",
       "Sex             object\n",
       "Age            float64\n",
       "SibSp            int64\n",
       "Parch            int64\n",
       "Ticket          object\n",
       "Fare           float64\n",
       "Cabin           object\n",
       "Embarked        object\n",
       "dtype: object"
      ]
     },
     "execution_count": 3,
     "metadata": {},
     "output_type": "execute_result"
    }
   ],
   "source": [
    "train.dtypes #quick look at data types, potentially transform some variables into a categorical variable"
   ]
  },
  {
   "cell_type": "code",
   "execution_count": 4,
   "id": "a56be1c2",
   "metadata": {},
   "outputs": [
    {
     "data": {
      "text/plain": [
       "(891, 12)"
      ]
     },
     "execution_count": 4,
     "metadata": {},
     "output_type": "execute_result"
    }
   ],
   "source": [
    "train.shape #We have 891 rows and 12 columns, in other words, 891 passengers in the titanic before the tragedy."
   ]
  },
  {
   "cell_type": "code",
   "execution_count": 5,
   "id": "2e2d59ed",
   "metadata": {},
   "outputs": [
    {
     "data": {
      "text/plain": [
       "PassengerId      0\n",
       "Survived         0\n",
       "Pclass           0\n",
       "Name             0\n",
       "Sex              0\n",
       "Age            177\n",
       "SibSp            0\n",
       "Parch            0\n",
       "Ticket           0\n",
       "Fare             0\n",
       "Cabin          687\n",
       "Embarked         2\n",
       "dtype: int64"
      ]
     },
     "execution_count": 5,
     "metadata": {},
     "output_type": "execute_result"
    }
   ],
   "source": [
    "#checking for missing data\n",
    "train.isnull().sum()"
   ]
  },
  {
   "cell_type": "markdown",
   "id": "dd698903",
   "metadata": {},
   "source": [
    "According to the data definitions, the 'cabin' variable is simply the cabin number. It has 687 missing data which means 77.1% of the cabin numbers are missing. If most the data were intact, it may have been possible to use the cabin numbers to predict survival based on the passenger location on the ship.\n",
    "\n",
    "Age has approximately 19.9% missing data which is much more than a safe threshold for missing data. The missing data can be considered as missing at random (MAR) as it is entirely possible that the age is missing because the passenger did not survive. However, given that a passenger doesn't survive, their friends and family could provide the age of the victim when they search for them in the Titanic. This means that the missing data could also potentially be considered MNAR. further exploration is needed."
   ]
  },
  {
   "cell_type": "code",
   "execution_count": 6,
   "id": "3792f484",
   "metadata": {},
   "outputs": [
    {
     "data": {
      "text/html": [
       "<div>\n",
       "<style scoped>\n",
       "    .dataframe tbody tr th:only-of-type {\n",
       "        vertical-align: middle;\n",
       "    }\n",
       "\n",
       "    .dataframe tbody tr th {\n",
       "        vertical-align: top;\n",
       "    }\n",
       "\n",
       "    .dataframe thead th {\n",
       "        text-align: right;\n",
       "    }\n",
       "</style>\n",
       "<table border=\"1\" class=\"dataframe\">\n",
       "  <thead>\n",
       "    <tr style=\"text-align: right;\">\n",
       "      <th></th>\n",
       "      <th>Age</th>\n",
       "      <th>SibSp</th>\n",
       "      <th>Parch</th>\n",
       "      <th>Fare</th>\n",
       "    </tr>\n",
       "  </thead>\n",
       "  <tbody>\n",
       "    <tr>\n",
       "      <th>count</th>\n",
       "      <td>714.000000</td>\n",
       "      <td>891.000000</td>\n",
       "      <td>891.000000</td>\n",
       "      <td>891.000000</td>\n",
       "    </tr>\n",
       "    <tr>\n",
       "      <th>mean</th>\n",
       "      <td>29.699118</td>\n",
       "      <td>0.523008</td>\n",
       "      <td>0.381594</td>\n",
       "      <td>32.204208</td>\n",
       "    </tr>\n",
       "    <tr>\n",
       "      <th>std</th>\n",
       "      <td>14.526497</td>\n",
       "      <td>1.102743</td>\n",
       "      <td>0.806057</td>\n",
       "      <td>49.693429</td>\n",
       "    </tr>\n",
       "    <tr>\n",
       "      <th>min</th>\n",
       "      <td>0.420000</td>\n",
       "      <td>0.000000</td>\n",
       "      <td>0.000000</td>\n",
       "      <td>0.000000</td>\n",
       "    </tr>\n",
       "    <tr>\n",
       "      <th>25%</th>\n",
       "      <td>20.125000</td>\n",
       "      <td>0.000000</td>\n",
       "      <td>0.000000</td>\n",
       "      <td>7.910400</td>\n",
       "    </tr>\n",
       "    <tr>\n",
       "      <th>50%</th>\n",
       "      <td>28.000000</td>\n",
       "      <td>0.000000</td>\n",
       "      <td>0.000000</td>\n",
       "      <td>14.454200</td>\n",
       "    </tr>\n",
       "    <tr>\n",
       "      <th>75%</th>\n",
       "      <td>38.000000</td>\n",
       "      <td>1.000000</td>\n",
       "      <td>0.000000</td>\n",
       "      <td>31.000000</td>\n",
       "    </tr>\n",
       "    <tr>\n",
       "      <th>max</th>\n",
       "      <td>80.000000</td>\n",
       "      <td>8.000000</td>\n",
       "      <td>6.000000</td>\n",
       "      <td>512.329200</td>\n",
       "    </tr>\n",
       "  </tbody>\n",
       "</table>\n",
       "</div>"
      ],
      "text/plain": [
       "              Age       SibSp       Parch        Fare\n",
       "count  714.000000  891.000000  891.000000  891.000000\n",
       "mean    29.699118    0.523008    0.381594   32.204208\n",
       "std     14.526497    1.102743    0.806057   49.693429\n",
       "min      0.420000    0.000000    0.000000    0.000000\n",
       "25%     20.125000    0.000000    0.000000    7.910400\n",
       "50%     28.000000    0.000000    0.000000   14.454200\n",
       "75%     38.000000    1.000000    0.000000   31.000000\n",
       "max     80.000000    8.000000    6.000000  512.329200"
      ]
     },
     "execution_count": 6,
     "metadata": {},
     "output_type": "execute_result"
    }
   ],
   "source": [
    "train[['Age', 'SibSp', 'Parch', 'Fare']].describe()"
   ]
  },
  {
   "cell_type": "code",
   "execution_count": 7,
   "id": "e530d576",
   "metadata": {},
   "outputs": [
    {
     "data": {
      "text/plain": [
       "PassengerId       int64\n",
       "Survived       category\n",
       "Pclass         category\n",
       "Name             object\n",
       "Sex            category\n",
       "Age             float64\n",
       "SibSp             int64\n",
       "Parch             int64\n",
       "Ticket         category\n",
       "Fare            float64\n",
       "Cabin          category\n",
       "Embarked       category\n",
       "dtype: object"
      ]
     },
     "execution_count": 7,
     "metadata": {},
     "output_type": "execute_result"
    }
   ],
   "source": [
    "#'Survived', 'Pclass', 'Sex' and 'Embarked' are all categorical variables\n",
    "train[['Survived', 'Pclass', 'Sex', 'Ticket', 'Cabin', 'Embarked']] = train[['Survived', 'Pclass', 'Sex', 'Ticket', 'Cabin', 'Embarked']].astype('category')\n",
    "test[['Survived', 'Pclass', 'Sex', 'Ticket', 'Cabin', 'Embarked']] = train[['Survived', 'Pclass', 'Sex', 'Ticket', 'Cabin', 'Embarked']].astype('category')\n",
    "train.dtypes"
   ]
  },
  {
   "cell_type": "markdown",
   "id": "75281afc",
   "metadata": {},
   "source": [
    "### Numerical variables"
   ]
  },
  {
   "cell_type": "code",
   "execution_count": 8,
   "id": "37de7611",
   "metadata": {},
   "outputs": [
    {
     "data": {
      "image/png": "[encoded data removed]",
      "text/plain": [
       "<Figure size 1000x1000 with 4 Axes>"
      ]
     },
     "metadata": {},
     "output_type": "display_data"
    }
   ],
   "source": [
    "train[['Age', 'SibSp', 'Parch', 'Ticket', 'Fare']].hist(figsize=(10,10))\n",
    "plt.show()"
   ]
  },
  {
   "cell_type": "code",
   "execution_count": 9,
   "id": "8ba45238",
   "metadata": {},
   "outputs": [
    {
     "data": {
      "image/png": "[encoded data removed]",
      "text/plain": [
       "<Figure size 500x500 with 4 Axes>"
      ]
     },
     "metadata": {},
     "output_type": "display_data"
    }
   ],
   "source": [
    "# Create a 2x2 grid of subplots\n",
    "fig, axes = plt.subplots(2, 2, figsize=(5, 5))\n",
    "\n",
    "# Create boxplots on each subplot\n",
    "sns.boxplot(x='Age', data=train, ax=axes[0, 0])\n",
    "sns.boxplot(x='SibSp', data=train, ax=axes[0, 1])\n",
    "sns.boxplot(x='Parch', data=train, orient='h', ax=axes[1, 0])\n",
    "sns.boxplot(x='Fare', data=train, orient='h', ax=axes[1, 1])\n",
    "\n",
    "# Set plot titles\n",
    "axes[0, 0].set_title('Boxplot of Age')\n",
    "axes[0, 1].set_title('Boxplot of Siblings/Spouse')\n",
    "axes[1, 0].set_title('Boxplot of Parents/children')\n",
    "axes[1, 1].set_title('Boxplot of Fare')\n",
    "\n",
    "# Display the plot\n",
    "plt.tight_layout()\n",
    "plt.show()"
   ]
  },
  {
   "cell_type": "markdown",
   "id": "c3bd701e",
   "metadata": {},
   "source": [
    "Age - it seems that most people fall between 20 and 40 with the average age approaching 30. There is, however, a group of people of age 70 and above. Potentially, they are senior citizens looking to enjoy the cruise.\n",
    "\n",
    "SibSp - most people also have a no or a single spouse with them on the cruise but there are a handful of people with 3 to 8 siblings on board as well.\n",
    "\n",
    "Parch - same story as SibSp, most people on board do not have parents or children with them except for a small group who have 1 to 6 children.\n",
    "\n",
    "Fare ($) - most passengers paid less than 50 for their tickets, however, there are passengers that have higher class tickets which are priced over 100 and one passenger with a ticket over 500. These are most likely the luxury class"
   ]
  },
  {
   "cell_type": "markdown",
   "id": "5214aaf8",
   "metadata": {},
   "source": [
    "### Counts for each catergorical variable"
   ]
  },
  {
   "cell_type": "code",
   "execution_count": 10,
   "id": "1d123783",
   "metadata": {},
   "outputs": [
    {
     "name": "stdout",
     "output_type": "stream",
     "text": [
      "Value counts for Survived:\n",
      "0    549\n",
      "1    342\n",
      "Name: Survived, dtype: int64\n",
      "\n",
      "Value counts for Pclass:\n",
      "3    491\n",
      "1    216\n",
      "2    184\n",
      "Name: Pclass, dtype: int64\n",
      "\n",
      "Value counts for Sex:\n",
      "male      577\n",
      "female    314\n",
      "Name: Sex, dtype: int64\n",
      "\n",
      "Value counts for Ticket:\n",
      "1601        7\n",
      "CA. 2343    7\n",
      "347082      7\n",
      "CA 2144     6\n",
      "347088      6\n",
      "           ..\n",
      "345572      1\n",
      "345364      1\n",
      "343276      1\n",
      "343275      1\n",
      "347464      1\n",
      "Name: Ticket, Length: 681, dtype: int64\n",
      "\n",
      "Value counts for Cabin:\n",
      "C23 C25 C27    4\n",
      "G6             4\n",
      "B96 B98        4\n",
      "F2             3\n",
      "C22 C26        3\n",
      "              ..\n",
      "C101           1\n",
      "B94            1\n",
      "B86            1\n",
      "B82 B84        1\n",
      "T              1\n",
      "Name: Cabin, Length: 147, dtype: int64\n",
      "\n",
      "Value counts for Embarked:\n",
      "S    644\n",
      "C    168\n",
      "Q     77\n",
      "Name: Embarked, dtype: int64\n",
      "\n"
     ]
    }
   ],
   "source": [
    "for column in ['Survived', 'Pclass', 'Sex', 'Ticket', 'Cabin', 'Embarked']: \n",
    "    print(f\"Value counts for {column}:\")\n",
    "    print(train[column].value_counts())\n",
    "    print()"
   ]
  },
  {
   "cell_type": "markdown",
   "id": "51b1cdab",
   "metadata": {},
   "source": [
    "Survived - Of the total 891 passengers, only 342 survived which is about ~38.4%.\n",
    "\n",
    "Pclass - over half the total passengers are in class 3 (lowest class), 24% is in class 1 (highest class) and 20.6% are in class 2 (middle class)\n",
    "\n",
    "Sex - approximately 64.7% of the passengers are males while the rest are female.\n",
    "\n",
    "Tickets - difficult to glean information from. Sometimes has alphabetic prefix followed by numeric data\n",
    "\n",
    "Cabin - as mentioned before, 77% of data are missing but could potentially be used to discern passenger location based on cabin. Like tickets, has alphabetic prefix followed by numeric data. Could be Ship layer + cabin room.\n",
    "\n",
    "Embarked - Embark location of cusotmers. Perhaps embarking from a different location could help with survival somehow(?)"
   ]
  },
  {
   "cell_type": "markdown",
   "id": "c6b23493",
   "metadata": {},
   "source": [
    "## Exploring each variable"
   ]
  },
  {
   "cell_type": "markdown",
   "id": "7f080f7b",
   "metadata": {},
   "source": [
    "#### Perhaps passengers in a higher class in the ship have a better chance at survival? For this variable, each passenger is grouped in terms of then whether they survived."
   ]
  },
  {
   "cell_type": "code",
   "execution_count": 11,
   "id": "d5e238ae",
   "metadata": {},
   "outputs": [
    {
     "name": "stdout",
     "output_type": "stream",
     "text": [
      "Pclass  Survived\n",
      "1       0            80\n",
      "        1           136\n",
      "2       0            97\n",
      "        1            87\n",
      "3       0           372\n",
      "        1           119\n",
      "dtype: int64\n"
     ]
    },
    {
     "data": {
      "image/png": "[encoded data removed]",
      "text/plain": [
       "<Figure size 800x400 with 1 Axes>"
      ]
     },
     "metadata": {},
     "output_type": "display_data"
    }
   ],
   "source": [
    "#Passenger class survivors\n",
    "pclass_survive = train.groupby(['Pclass','Survived']).size()\n",
    "print(pclass_survive)\n",
    "pclass_survive_df = pclass_survive.reset_index(name='Count')\n",
    "pclass_survive_pivot = pclass_survive_df.pivot_table(index='Pclass', columns='Survived', values='Count')\n",
    "\n",
    "# Plot the bar chart\n",
    "ax = pclass_survive_pivot.plot.bar(rot=0, figsize=(8, 4))\n",
    "ax.set_xlabel(\"Pclass\")\n",
    "ax.set_ylabel(\"Number of Passengers\")\n",
    "ax.set_title(\"Survival by Passenger Class\")\n",
    "plt.xticks(range(len(pclass_survive_pivot.index)), pclass_survive_pivot.index)\n",
    "plt.legend([\"Not Survived\", \"Survived\"], title=\"Survived\")\n",
    "plt.show()"
   ]
  },
  {
   "cell_type": "markdown",
   "id": "10d879cf",
   "metadata": {},
   "source": [
    "#### Perhaps it is possible to glean passenger's social stratification based on title, maybe those of greater economic class have higher priority which improves survival?"
   ]
  },
  {
   "cell_type": "code",
   "execution_count": 12,
   "id": "bc14aa4a",
   "metadata": {},
   "outputs": [
    {
     "data": {
      "text/plain": [
       "Mr          517\n",
       "Miss        182\n",
       "Mrs         125\n",
       "Master       40\n",
       "Dr            7\n",
       "Rev           6\n",
       "Mlle          2\n",
       "Major         2\n",
       "Col           2\n",
       "Countess      1\n",
       "Capt          1\n",
       "Ms            1\n",
       "Sir           1\n",
       "Lady          1\n",
       "Mme           1\n",
       "Don           1\n",
       "Jonkheer      1\n",
       "Name: Title, dtype: int64"
      ]
     },
     "execution_count": 12,
     "metadata": {},
     "output_type": "execute_result"
    }
   ],
   "source": [
    "#Name\n",
    "# Extract title from 'Name' column\n",
    "train['Title'] = train['Name'].str.extract(' ([a-zA-Z]+)\\.')\n",
    "test['Title'] = test['Name'].str.extract(' ([a-zA-Z]+)\\.')\n",
    "train['Title'].value_counts()"
   ]
  },
  {
   "cell_type": "code",
   "execution_count": 13,
   "id": "cf262d70",
   "metadata": {},
   "outputs": [],
   "source": [
    "def title_type(x):\n",
    "    if x == 'Mr':\n",
    "        return 'Mr'\n",
    "    elif x in ['Dr', 'Rev', 'Major', 'Col', 'Capt']:\n",
    "        return 'Staff'\n",
    "    elif x in ['Miss','Mrs','Ms']:\n",
    "        return 'Miss'\n",
    "    else:\n",
    "        return 'Noble'\n",
    "train['Title_type'] = train['Title'].apply(title_type)\n",
    "test['Title_type'] = test['Title'].apply(title_type)"
   ]
  },
  {
   "cell_type": "markdown",
   "id": "7f3f9e4a",
   "metadata": {},
   "source": [
    "#### Between the two sexes, which has a higher porbability of surviving?"
   ]
  },
  {
   "cell_type": "code",
   "execution_count": 14,
   "id": "4a501065",
   "metadata": {},
   "outputs": [
    {
     "name": "stdout",
     "output_type": "stream",
     "text": [
      "Sex     Survived\n",
      "female  0            81\n",
      "        1           233\n",
      "male    0           468\n",
      "        1           109\n",
      "dtype: int64\n"
     ]
    },
    {
     "data": {
      "image/png": "[encoded data removed]",
      "text/plain": [
       "<Figure size 800x400 with 1 Axes>"
      ]
     },
     "metadata": {},
     "output_type": "display_data"
    }
   ],
   "source": [
    "#Male v Female survivors\n",
    "pclass_sex = train.groupby(['Sex','Survived']).size()\n",
    "print(pclass_sex)\n",
    "pclass_sex_df = pclass_sex.reset_index(name='Count')\n",
    "pclass_sex_pivot = pclass_sex_df.pivot_table(index='Sex', columns='Survived', values='Count')\n",
    "\n",
    "# Plot the bar chart\n",
    "ax = pclass_sex_pivot.plot.bar(rot=0, figsize=(8, 4))\n",
    "ax.set_xlabel(\"Sex\")\n",
    "ax.set_ylabel(\"Number of Passengers\")\n",
    "ax.set_title(\"Survival by Sex\")\n",
    "plt.xticks(range(len(pclass_sex_pivot.index)), pclass_sex_pivot.index)\n",
    "plt.legend([\"Not Survived\", \"Survived\"], title=\"Survived\")\n",
    "plt.show()"
   ]
  },
  {
   "cell_type": "markdown",
   "id": "ba48c6c5",
   "metadata": {},
   "source": [
    "Of the 342 survivors, 233 were female and 109 were male. Most of the ones that didn't survive were male which is about ~85.2%"
   ]
  },
  {
   "cell_type": "markdown",
   "id": "11fa76b9",
   "metadata": {},
   "source": [
    "#### What are the average ages of those who survived and those who didn't?"
   ]
  },
  {
   "cell_type": "code",
   "execution_count": 15,
   "id": "4e35cbb8",
   "metadata": {},
   "outputs": [
    {
     "data": {
      "image/png": "[encoded data removed]",
      "text/plain": [
       "<Figure size 500x500 with 2 Axes>"
      ]
     },
     "metadata": {},
     "output_type": "display_data"
    }
   ],
   "source": [
    "#Age\n",
    "fig, axes = plt.subplots(1, 2, figsize=(5, 5))\n",
    "\n",
    "# Create boxplots on each subplot\n",
    "sns.histplot(x='Age', data=train[train['Survived']==1], ax=axes[0])\n",
    "sns.histplot(x='Age', data=train[train['Survived']==0], ax=axes[1])\n",
    "\n",
    "# Set plot titles\n",
    "axes[0].set_title('survive')\n",
    "axes[1].set_title('victim')\n",
    "\n",
    "# Display the plot\n",
    "plt.tight_layout()\n",
    "plt.show()"
   ]
  },
  {
   "cell_type": "markdown",
   "id": "d17eea67",
   "metadata": {},
   "source": [
    "Through visual inspection, it seems that the average age of those who survived is younger than those who didn't."
   ]
  },
  {
   "cell_type": "markdown",
   "id": "b667cfe1",
   "metadata": {},
   "source": [
    "#### Do families or non-families have better survival rates?"
   ]
  },
  {
   "cell_type": "code",
   "execution_count": 16,
   "id": "80eaeaf8",
   "metadata": {},
   "outputs": [
    {
     "data": {
      "text/plain": [
       "array([ 1,  0,  4,  2,  6,  5,  3,  7, 10], dtype=int64)"
      ]
     },
     "execution_count": 16,
     "metadata": {},
     "output_type": "execute_result"
    }
   ],
   "source": [
    "train['SibPar'] = train['SibSp'] + train['Parch']\n",
    "test['SibPar'] = test['SibSp'] + test['Parch']\n",
    "train['SibPar'].unique() #shows possible family sizes"
   ]
  },
  {
   "cell_type": "code",
   "execution_count": 17,
   "id": "f2f58735",
   "metadata": {},
   "outputs": [],
   "source": [
    "def fam_s(x):\n",
    "    if x < 2:\n",
    "        return 'not_family'\n",
    "    elif x <= 3:\n",
    "        return 'small'\n",
    "    elif x <= 4:\n",
    "        return 'medium'\n",
    "    else:\n",
    "        return 'large'\n",
    "train['Family_size'] = train['SibPar'].apply(fam_s)"
   ]
  },
  {
   "cell_type": "code",
   "execution_count": 18,
   "id": "b57c345c",
   "metadata": {
    "scrolled": true
   },
   "outputs": [
    {
     "data": {
      "text/plain": [
       "not_family    698\n",
       "small         131\n",
       "large          47\n",
       "medium         15\n",
       "Name: Family_size, dtype: int64"
      ]
     },
     "execution_count": 18,
     "metadata": {},
     "output_type": "execute_result"
    }
   ],
   "source": [
    "train['Family_size'].value_counts()"
   ]
  },
  {
   "cell_type": "code",
   "execution_count": 19,
   "id": "02ce20ac",
   "metadata": {},
   "outputs": [
    {
     "data": {
      "text/html": [
       "<div>\n",
       "<style scoped>\n",
       "    .dataframe tbody tr th:only-of-type {\n",
       "        vertical-align: middle;\n",
       "    }\n",
       "\n",
       "    .dataframe tbody tr th {\n",
       "        vertical-align: top;\n",
       "    }\n",
       "\n",
       "    .dataframe thead th {\n",
       "        text-align: right;\n",
       "    }\n",
       "</style>\n",
       "<table border=\"1\" class=\"dataframe\">\n",
       "  <thead>\n",
       "    <tr style=\"text-align: right;\">\n",
       "      <th></th>\n",
       "      <th>SibSp</th>\n",
       "      <th>Parch</th>\n",
       "      <th>SibPar</th>\n",
       "      <th>Family_size</th>\n",
       "    </tr>\n",
       "  </thead>\n",
       "  <tbody>\n",
       "    <tr>\n",
       "      <th>0</th>\n",
       "      <td>1</td>\n",
       "      <td>0</td>\n",
       "      <td>1</td>\n",
       "      <td>not_family</td>\n",
       "    </tr>\n",
       "    <tr>\n",
       "      <th>1</th>\n",
       "      <td>1</td>\n",
       "      <td>0</td>\n",
       "      <td>1</td>\n",
       "      <td>not_family</td>\n",
       "    </tr>\n",
       "    <tr>\n",
       "      <th>3</th>\n",
       "      <td>1</td>\n",
       "      <td>0</td>\n",
       "      <td>1</td>\n",
       "      <td>not_family</td>\n",
       "    </tr>\n",
       "    <tr>\n",
       "      <th>9</th>\n",
       "      <td>1</td>\n",
       "      <td>0</td>\n",
       "      <td>1</td>\n",
       "      <td>not_family</td>\n",
       "    </tr>\n",
       "    <tr>\n",
       "      <th>18</th>\n",
       "      <td>1</td>\n",
       "      <td>0</td>\n",
       "      <td>1</td>\n",
       "      <td>not_family</td>\n",
       "    </tr>\n",
       "    <tr>\n",
       "      <th>...</th>\n",
       "      <td>...</td>\n",
       "      <td>...</td>\n",
       "      <td>...</td>\n",
       "      <td>...</td>\n",
       "    </tr>\n",
       "    <tr>\n",
       "      <th>861</th>\n",
       "      <td>1</td>\n",
       "      <td>0</td>\n",
       "      <td>1</td>\n",
       "      <td>not_family</td>\n",
       "    </tr>\n",
       "    <tr>\n",
       "      <th>866</th>\n",
       "      <td>1</td>\n",
       "      <td>0</td>\n",
       "      <td>1</td>\n",
       "      <td>not_family</td>\n",
       "    </tr>\n",
       "    <tr>\n",
       "      <th>874</th>\n",
       "      <td>1</td>\n",
       "      <td>0</td>\n",
       "      <td>1</td>\n",
       "      <td>not_family</td>\n",
       "    </tr>\n",
       "    <tr>\n",
       "      <th>879</th>\n",
       "      <td>0</td>\n",
       "      <td>1</td>\n",
       "      <td>1</td>\n",
       "      <td>not_family</td>\n",
       "    </tr>\n",
       "    <tr>\n",
       "      <th>880</th>\n",
       "      <td>0</td>\n",
       "      <td>1</td>\n",
       "      <td>1</td>\n",
       "      <td>not_family</td>\n",
       "    </tr>\n",
       "  </tbody>\n",
       "</table>\n",
       "<p>161 rows × 4 columns</p>\n",
       "</div>"
      ],
      "text/plain": [
       "     SibSp  Parch  SibPar Family_size\n",
       "0        1      0       1  not_family\n",
       "1        1      0       1  not_family\n",
       "3        1      0       1  not_family\n",
       "9        1      0       1  not_family\n",
       "18       1      0       1  not_family\n",
       "..     ...    ...     ...         ...\n",
       "861      1      0       1  not_family\n",
       "866      1      0       1  not_family\n",
       "874      1      0       1  not_family\n",
       "879      0      1       1  not_family\n",
       "880      0      1       1  not_family\n",
       "\n",
       "[161 rows x 4 columns]"
      ]
     },
     "execution_count": 19,
     "metadata": {},
     "output_type": "execute_result"
    }
   ],
   "source": [
    "#confirming if categorizing family sizes is correct\n",
    "train[['SibPar', 'Family_size']].sort_values(by = 'SibPar', ascending = False)\n",
    "train[['SibSp', 'Parch','SibPar', 'Family_size']].loc[train['SibPar'] == 1]"
   ]
  },
  {
   "cell_type": "code",
   "execution_count": 20,
   "id": "74e27a82",
   "metadata": {},
   "outputs": [
    {
     "name": "stdout",
     "output_type": "stream",
     "text": [
      "Survived  Family_size\n",
      "0         large           40\n",
      "          medium          12\n",
      "          not_family     446\n",
      "          small           51\n",
      "1         large            7\n",
      "          medium           3\n",
      "          not_family     252\n",
      "          small           80\n",
      "dtype: int64\n"
     ]
    },
    {
     "data": {
      "image/png": "[encoded data removed]",
      "text/plain": [
       "<Figure size 800x400 with 1 Axes>"
      ]
     },
     "metadata": {},
     "output_type": "display_data"
    }
   ],
   "source": [
    "survive_fam = train.groupby(['Survived','Family_size']).size()\n",
    "print(survive_fam)\n",
    "\n",
    "survive_fam_df = survive_fam.reset_index(name='Count')\n",
    "survive_fam_pivot = survive_fam_df.pivot_table(index='Family_size', columns='Survived', values='Count')\n",
    "\n",
    "# Plot the bar chart\n",
    "ax = survive_fam_pivot.plot.bar(rot=0, figsize=(8, 4))\n",
    "ax.set_xlabel(\"Family_Size\")\n",
    "ax.set_ylabel(\"Number of Passengers\")\n",
    "ax.set_title(\"Survival by Family size\")\n",
    "plt.xticks(range(len(survive_fam_pivot.index)), survive_fam_pivot.index)\n",
    "plt.legend([\"Not Survived\", \"Survived\"], title=\"Survived\")\n",
    "plt.show()"
   ]
  },
  {
   "cell_type": "code",
   "execution_count": null,
   "id": "ea4941f8",
   "metadata": {},
   "outputs": [],
   "source": []
  },
  {
   "cell_type": "code",
   "execution_count": 21,
   "id": "ca4e853e",
   "metadata": {},
   "outputs": [],
   "source": [
    "#ticket prefix\n",
    "def extract_prefix(s):\n",
    "    match = re.match(r'^[^ ]+', s)\n",
    "    if match:\n",
    "        # If the matched string starts with a digit, return NaN\n",
    "        if match.group(0)[0].isdigit():\n",
    "            return 'none'\n",
    "        else:\n",
    "            return match.group(0)\n",
    "    else:\n",
    "        return 'none'\n",
    "train['Ticket_Prefix'] = train['Ticket'].apply(extract_prefix)"
   ]
  },
  {
   "cell_type": "code",
   "execution_count": 22,
   "id": "136741e2",
   "metadata": {},
   "outputs": [
    {
     "data": {
      "text/plain": [
       "none          661\n",
       "PC             60\n",
       "C.A.           27\n",
       "STON/O         12\n",
       "A/5            10\n",
       "W./C.           9\n",
       "CA.             8\n",
       "SOTON/O.Q.      8\n",
       "A/5.            7\n",
       "SOTON/OQ        7\n",
       "STON/O2.        6\n",
       "CA              6\n",
       "F.C.C.          5\n",
       "C               5\n",
       "SC/PARIS        5\n",
       "S.O.C.          5\n",
       "SC/Paris        4\n",
       "LINE            4\n",
       "A/4             3\n",
       "PP              3\n",
       "A/4.            3\n",
       "S.O./P.P.       3\n",
       "SC/AH           3\n",
       "A.5.            2\n",
       "A./5.           2\n",
       "P/PP            2\n",
       "WE/P            2\n",
       "SOTON/O2        2\n",
       "S.C./PARIS      2\n",
       "S.W./PP         1\n",
       "F.C.            1\n",
       "A/S             1\n",
       "SO/C            1\n",
       "W/C             1\n",
       "SC              1\n",
       "SCO/W           1\n",
       "SW/PP           1\n",
       "Fa              1\n",
       "S.O.P.          1\n",
       "S.C./A.4.       1\n",
       "A4.             1\n",
       "S.P.            1\n",
       "W.E.P.          1\n",
       "C.A./SOTON      1\n",
       "Name: Ticket_Prefix, dtype: int64"
      ]
     },
     "execution_count": 22,
     "metadata": {},
     "output_type": "execute_result"
    }
   ],
   "source": [
    "train['Ticket_Prefix'].value_counts()"
   ]
  },
  {
   "cell_type": "code",
   "execution_count": 23,
   "id": "16169f36",
   "metadata": {
    "scrolled": true
   },
   "outputs": [
    {
     "data": {
      "text/html": [
       "<div>\n",
       "<style scoped>\n",
       "    .dataframe tbody tr th:only-of-type {\n",
       "        vertical-align: middle;\n",
       "    }\n",
       "\n",
       "    .dataframe tbody tr th {\n",
       "        vertical-align: top;\n",
       "    }\n",
       "\n",
       "    .dataframe thead th {\n",
       "        text-align: right;\n",
       "    }\n",
       "</style>\n",
       "<table border=\"1\" class=\"dataframe\">\n",
       "  <thead>\n",
       "    <tr style=\"text-align: right;\">\n",
       "      <th></th>\n",
       "      <th>PassengerId</th>\n",
       "      <th>Survived</th>\n",
       "      <th>Pclass</th>\n",
       "      <th>Name</th>\n",
       "      <th>Sex</th>\n",
       "      <th>Age</th>\n",
       "      <th>SibSp</th>\n",
       "      <th>Parch</th>\n",
       "      <th>Ticket</th>\n",
       "      <th>Fare</th>\n",
       "      <th>Cabin</th>\n",
       "      <th>Embarked</th>\n",
       "      <th>Title</th>\n",
       "      <th>Title_type</th>\n",
       "      <th>SibPar</th>\n",
       "      <th>Family_size</th>\n",
       "      <th>Ticket_Prefix</th>\n",
       "    </tr>\n",
       "  </thead>\n",
       "  <tbody>\n",
       "    <tr>\n",
       "      <th>0</th>\n",
       "      <td>1</td>\n",
       "      <td>0</td>\n",
       "      <td>3</td>\n",
       "      <td>Braund, Mr. Owen Harris</td>\n",
       "      <td>male</td>\n",
       "      <td>22.0</td>\n",
       "      <td>1</td>\n",
       "      <td>0</td>\n",
       "      <td>A/5 21171</td>\n",
       "      <td>7.2500</td>\n",
       "      <td>NaN</td>\n",
       "      <td>S</td>\n",
       "      <td>Mr</td>\n",
       "      <td>Mr</td>\n",
       "      <td>1</td>\n",
       "      <td>not_family</td>\n",
       "      <td>A/5</td>\n",
       "    </tr>\n",
       "    <tr>\n",
       "      <th>1</th>\n",
       "      <td>2</td>\n",
       "      <td>1</td>\n",
       "      <td>1</td>\n",
       "      <td>Cumings, Mrs. John Bradley (Florence Briggs Th...</td>\n",
       "      <td>female</td>\n",
       "      <td>38.0</td>\n",
       "      <td>1</td>\n",
       "      <td>0</td>\n",
       "      <td>PC 17599</td>\n",
       "      <td>71.2833</td>\n",
       "      <td>C85</td>\n",
       "      <td>C</td>\n",
       "      <td>Mrs</td>\n",
       "      <td>Miss</td>\n",
       "      <td>1</td>\n",
       "      <td>not_family</td>\n",
       "      <td>PC</td>\n",
       "    </tr>\n",
       "    <tr>\n",
       "      <th>2</th>\n",
       "      <td>3</td>\n",
       "      <td>1</td>\n",
       "      <td>3</td>\n",
       "      <td>Heikkinen, Miss. Laina</td>\n",
       "      <td>female</td>\n",
       "      <td>26.0</td>\n",
       "      <td>0</td>\n",
       "      <td>0</td>\n",
       "      <td>STON/O2. 3101282</td>\n",
       "      <td>7.9250</td>\n",
       "      <td>NaN</td>\n",
       "      <td>S</td>\n",
       "      <td>Miss</td>\n",
       "      <td>Miss</td>\n",
       "      <td>0</td>\n",
       "      <td>not_family</td>\n",
       "      <td>STON/O2.</td>\n",
       "    </tr>\n",
       "    <tr>\n",
       "      <th>3</th>\n",
       "      <td>4</td>\n",
       "      <td>1</td>\n",
       "      <td>1</td>\n",
       "      <td>Futrelle, Mrs. Jacques Heath (Lily May Peel)</td>\n",
       "      <td>female</td>\n",
       "      <td>35.0</td>\n",
       "      <td>1</td>\n",
       "      <td>0</td>\n",
       "      <td>113803</td>\n",
       "      <td>53.1000</td>\n",
       "      <td>C123</td>\n",
       "      <td>S</td>\n",
       "      <td>Mrs</td>\n",
       "      <td>Miss</td>\n",
       "      <td>1</td>\n",
       "      <td>not_family</td>\n",
       "      <td>none</td>\n",
       "    </tr>\n",
       "    <tr>\n",
       "      <th>4</th>\n",
       "      <td>5</td>\n",
       "      <td>0</td>\n",
       "      <td>3</td>\n",
       "      <td>Allen, Mr. William Henry</td>\n",
       "      <td>male</td>\n",
       "      <td>35.0</td>\n",
       "      <td>0</td>\n",
       "      <td>0</td>\n",
       "      <td>373450</td>\n",
       "      <td>8.0500</td>\n",
       "      <td>NaN</td>\n",
       "      <td>S</td>\n",
       "      <td>Mr</td>\n",
       "      <td>Mr</td>\n",
       "      <td>0</td>\n",
       "      <td>not_family</td>\n",
       "      <td>none</td>\n",
       "    </tr>\n",
       "  </tbody>\n",
       "</table>\n",
       "</div>"
      ],
      "text/plain": [
       "   PassengerId Survived Pclass  \\\n",
       "0            1        0      3   \n",
       "1            2        1      1   \n",
       "2            3        1      3   \n",
       "3            4        1      1   \n",
       "4            5        0      3   \n",
       "\n",
       "                                                Name     Sex   Age  SibSp  \\\n",
       "0                            Braund, Mr. Owen Harris    male  22.0      1   \n",
       "1  Cumings, Mrs. John Bradley (Florence Briggs Th...  female  38.0      1   \n",
       "2                             Heikkinen, Miss. Laina  female  26.0      0   \n",
       "3       Futrelle, Mrs. Jacques Heath (Lily May Peel)  female  35.0      1   \n",
       "4                           Allen, Mr. William Henry    male  35.0      0   \n",
       "\n",
       "   Parch            Ticket     Fare Cabin Embarked Title Title_type  SibPar  \\\n",
       "0      0         A/5 21171   7.2500   NaN        S    Mr         Mr       1   \n",
       "1      0          PC 17599  71.2833   C85        C   Mrs       Miss       1   \n",
       "2      0  STON/O2. 3101282   7.9250   NaN        S  Miss       Miss       0   \n",
       "3      0            113803  53.1000  C123        S   Mrs       Miss       1   \n",
       "4      0            373450   8.0500   NaN        S    Mr         Mr       0   \n",
       "\n",
       "  Family_size Ticket_Prefix  \n",
       "0  not_family           A/5  \n",
       "1  not_family            PC  \n",
       "2  not_family      STON/O2.  \n",
       "3  not_family          none  \n",
       "4  not_family          none  "
      ]
     },
     "execution_count": 23,
     "metadata": {},
     "output_type": "execute_result"
    }
   ],
   "source": [
    "train.head()"
   ]
  },
  {
   "cell_type": "markdown",
   "id": "23b16260",
   "metadata": {},
   "source": [
    "#### How does ticket fare and survival relate?"
   ]
  },
  {
   "cell_type": "code",
   "execution_count": 24,
   "id": "e0f2a86f",
   "metadata": {},
   "outputs": [
    {
     "data": {
      "text/plain": [
       "0.25730652238496227"
      ]
     },
     "execution_count": 24,
     "metadata": {},
     "output_type": "execute_result"
    }
   ],
   "source": [
    "#Observe corelation of survival and fare price\n",
    "train['Survived'].corr(train['Fare'])"
   ]
  },
  {
   "cell_type": "markdown",
   "id": "811da672",
   "metadata": {},
   "source": [
    "There is a minor positive correlation between ticket fare and whether a passenger survives"
   ]
  },
  {
   "cell_type": "code",
   "execution_count": 25,
   "id": "0a9e8697",
   "metadata": {},
   "outputs": [
    {
     "name": "stdout",
     "output_type": "stream",
     "text": [
      "Survived\n",
      "0    22.117887\n",
      "1    48.395408\n",
      "Name: Fare, dtype: float64\n"
     ]
    }
   ],
   "source": [
    "survive_fare = train.groupby('Survived')['Fare'].mean()\n",
    "print(survive_fare)"
   ]
  },
  {
   "cell_type": "markdown",
   "id": "de292149",
   "metadata": {},
   "source": [
    "The average ticket fare for those who survived is higher than those who didn't survive. Possible over representation of non-survivors as there are more who didn't survive thaan those who did."
   ]
  },
  {
   "cell_type": "code",
   "execution_count": 26,
   "id": "95684531",
   "metadata": {},
   "outputs": [],
   "source": [
    "#cabin type\n",
    "train['Cabin'] = train['Cabin'].cat.add_categories('Unknown')\n",
    "train['Cabin'] = train['Cabin'].fillna('Unknown')\n",
    "\n",
    "def cabin_t(x):\n",
    "    if x == \"Unknown\":\n",
    "        return 'U'\n",
    "    else:\n",
    "        return x[0]\n",
    "\n",
    "train['Cabin_type'] = train['Cabin'].apply(cabin_t)"
   ]
  },
  {
   "cell_type": "code",
   "execution_count": 27,
   "id": "cd310dd0",
   "metadata": {},
   "outputs": [
    {
     "data": {
      "text/html": [
       "<div>\n",
       "<style scoped>\n",
       "    .dataframe tbody tr th:only-of-type {\n",
       "        vertical-align: middle;\n",
       "    }\n",
       "\n",
       "    .dataframe tbody tr th {\n",
       "        vertical-align: top;\n",
       "    }\n",
       "\n",
       "    .dataframe thead th {\n",
       "        text-align: right;\n",
       "    }\n",
       "</style>\n",
       "<table border=\"1\" class=\"dataframe\">\n",
       "  <thead>\n",
       "    <tr style=\"text-align: right;\">\n",
       "      <th></th>\n",
       "      <th>PassengerId</th>\n",
       "      <th>Survived</th>\n",
       "      <th>Pclass</th>\n",
       "      <th>Name</th>\n",
       "      <th>Sex</th>\n",
       "      <th>Age</th>\n",
       "      <th>SibSp</th>\n",
       "      <th>Parch</th>\n",
       "      <th>Ticket</th>\n",
       "      <th>Fare</th>\n",
       "      <th>Cabin</th>\n",
       "      <th>Embarked</th>\n",
       "      <th>Title</th>\n",
       "      <th>Title_type</th>\n",
       "      <th>SibPar</th>\n",
       "      <th>Family_size</th>\n",
       "      <th>Ticket_Prefix</th>\n",
       "      <th>Cabin_type</th>\n",
       "    </tr>\n",
       "  </thead>\n",
       "  <tbody>\n",
       "    <tr>\n",
       "      <th>0</th>\n",
       "      <td>1</td>\n",
       "      <td>0</td>\n",
       "      <td>3</td>\n",
       "      <td>Braund, Mr. Owen Harris</td>\n",
       "      <td>male</td>\n",
       "      <td>22.0</td>\n",
       "      <td>1</td>\n",
       "      <td>0</td>\n",
       "      <td>A/5 21171</td>\n",
       "      <td>7.2500</td>\n",
       "      <td>Unknown</td>\n",
       "      <td>S</td>\n",
       "      <td>Mr</td>\n",
       "      <td>Mr</td>\n",
       "      <td>1</td>\n",
       "      <td>not_family</td>\n",
       "      <td>A/5</td>\n",
       "      <td>U</td>\n",
       "    </tr>\n",
       "    <tr>\n",
       "      <th>1</th>\n",
       "      <td>2</td>\n",
       "      <td>1</td>\n",
       "      <td>1</td>\n",
       "      <td>Cumings, Mrs. John Bradley (Florence Briggs Th...</td>\n",
       "      <td>female</td>\n",
       "      <td>38.0</td>\n",
       "      <td>1</td>\n",
       "      <td>0</td>\n",
       "      <td>PC 17599</td>\n",
       "      <td>71.2833</td>\n",
       "      <td>C85</td>\n",
       "      <td>C</td>\n",
       "      <td>Mrs</td>\n",
       "      <td>Miss</td>\n",
       "      <td>1</td>\n",
       "      <td>not_family</td>\n",
       "      <td>PC</td>\n",
       "      <td>C</td>\n",
       "    </tr>\n",
       "    <tr>\n",
       "      <th>2</th>\n",
       "      <td>3</td>\n",
       "      <td>1</td>\n",
       "      <td>3</td>\n",
       "      <td>Heikkinen, Miss. Laina</td>\n",
       "      <td>female</td>\n",
       "      <td>26.0</td>\n",
       "      <td>0</td>\n",
       "      <td>0</td>\n",
       "      <td>STON/O2. 3101282</td>\n",
       "      <td>7.9250</td>\n",
       "      <td>Unknown</td>\n",
       "      <td>S</td>\n",
       "      <td>Miss</td>\n",
       "      <td>Miss</td>\n",
       "      <td>0</td>\n",
       "      <td>not_family</td>\n",
       "      <td>STON/O2.</td>\n",
       "      <td>U</td>\n",
       "    </tr>\n",
       "    <tr>\n",
       "      <th>3</th>\n",
       "      <td>4</td>\n",
       "      <td>1</td>\n",
       "      <td>1</td>\n",
       "      <td>Futrelle, Mrs. Jacques Heath (Lily May Peel)</td>\n",
       "      <td>female</td>\n",
       "      <td>35.0</td>\n",
       "      <td>1</td>\n",
       "      <td>0</td>\n",
       "      <td>113803</td>\n",
       "      <td>53.1000</td>\n",
       "      <td>C123</td>\n",
       "      <td>S</td>\n",
       "      <td>Mrs</td>\n",
       "      <td>Miss</td>\n",
       "      <td>1</td>\n",
       "      <td>not_family</td>\n",
       "      <td>none</td>\n",
       "      <td>C</td>\n",
       "    </tr>\n",
       "    <tr>\n",
       "      <th>4</th>\n",
       "      <td>5</td>\n",
       "      <td>0</td>\n",
       "      <td>3</td>\n",
       "      <td>Allen, Mr. William Henry</td>\n",
       "      <td>male</td>\n",
       "      <td>35.0</td>\n",
       "      <td>0</td>\n",
       "      <td>0</td>\n",
       "      <td>373450</td>\n",
       "      <td>8.0500</td>\n",
       "      <td>Unknown</td>\n",
       "      <td>S</td>\n",
       "      <td>Mr</td>\n",
       "      <td>Mr</td>\n",
       "      <td>0</td>\n",
       "      <td>not_family</td>\n",
       "      <td>none</td>\n",
       "      <td>U</td>\n",
       "    </tr>\n",
       "  </tbody>\n",
       "</table>\n",
       "</div>"
      ],
      "text/plain": [
       "   PassengerId Survived Pclass  \\\n",
       "0            1        0      3   \n",
       "1            2        1      1   \n",
       "2            3        1      3   \n",
       "3            4        1      1   \n",
       "4            5        0      3   \n",
       "\n",
       "                                                Name     Sex   Age  SibSp  \\\n",
       "0                            Braund, Mr. Owen Harris    male  22.0      1   \n",
       "1  Cumings, Mrs. John Bradley (Florence Briggs Th...  female  38.0      1   \n",
       "2                             Heikkinen, Miss. Laina  female  26.0      0   \n",
       "3       Futrelle, Mrs. Jacques Heath (Lily May Peel)  female  35.0      1   \n",
       "4                           Allen, Mr. William Henry    male  35.0      0   \n",
       "\n",
       "   Parch            Ticket     Fare    Cabin Embarked Title Title_type  \\\n",
       "0      0         A/5 21171   7.2500  Unknown        S    Mr         Mr   \n",
       "1      0          PC 17599  71.2833      C85        C   Mrs       Miss   \n",
       "2      0  STON/O2. 3101282   7.9250  Unknown        S  Miss       Miss   \n",
       "3      0            113803  53.1000     C123        S   Mrs       Miss   \n",
       "4      0            373450   8.0500  Unknown        S    Mr         Mr   \n",
       "\n",
       "   SibPar Family_size Ticket_Prefix Cabin_type  \n",
       "0       1  not_family           A/5          U  \n",
       "1       1  not_family            PC          C  \n",
       "2       0  not_family      STON/O2.          U  \n",
       "3       1  not_family          none          C  \n",
       "4       0  not_family          none          U  "
      ]
     },
     "execution_count": 27,
     "metadata": {},
     "output_type": "execute_result"
    }
   ],
   "source": [
    "train.head()"
   ]
  }
 ],
 "metadata": {
  "kernelspec": {
   "display_name": "Python 3 (ipykernel)",
   "language": "python",
   "name": "python3"
  },
  "language_info": {
   "codemirror_mode": {
    "name": "ipython",
    "version": 3
   },
   "file_extension": ".py",
   "mimetype": "text/x-python",
   "name": "python",
   "nbconvert_exporter": "python",
   "pygments_lexer": "ipython3",
   "version": "3.10.9"
  }
 },
 "nbformat": 4,
 "nbformat_minor": 5
}
